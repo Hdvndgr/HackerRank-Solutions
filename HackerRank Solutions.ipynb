{
 "cells": [
  {
   "cell_type": "markdown",
   "metadata": {},
   "source": [
    "# Question 1. Shared Interests"
   ]
  },
  {
   "cell_type": "markdown",
   "metadata": {},
   "source": [
    "Grafikteki friends_node ve friends_interest bir tabloya aktarilir. Bahsekonu tablo SQL mantigindaki gibi sutun bazli bir tablo oldugunu dusunuyorum. (pandas bunun icin DataFrame sunuyor.)"
   ]
  },
  {
   "cell_type": "code",
   "execution_count": 2,
   "metadata": {},
   "outputs": [],
   "source": [
    "import pandas as pd\n",
    "import numpy as np"
   ]
  },
  {
   "cell_type": "code",
   "execution_count": 134,
   "metadata": {},
   "outputs": [],
   "source": [
    "class Solution:   \n",
    "    def sharedInterest(self, data):\n",
    "        df = pd.DataFrame(\n",
    "            data,\n",
    "            columns=['From', 'To', 'Interest'])\n",
    "        #Toplam Node sayisini cikartiyoruz belki lazim olur\n",
    "        TotalNode = list(set(df['From']).union(set(df['To'])))\n",
    "        #print(FrList)\n",
    "        #Friends ciftlerini tuple listesi haline getirdim ki her bir cift arasinda kac baglanti var onu cozeyim\n",
    "        subset = df[['From', 'To']]\n",
    "        FrtuplesList = list(tuple(x) for x in subset.values)\n",
    "        FrtuplesList.sort()\n",
    "        Frset = list(set(FrtuplesList))\n",
    "        #print(FrtuplesList)\n",
    "        #print(Frset)\n",
    "        interestNums = []\n",
    "\n",
    "        def checkWeights(pair):\n",
    "            subset2 = df['Interest'][(df['From'] == pair[0]) & (df['To'] == pair[1])]\n",
    "            st = list(x for x in subset2.values)\n",
    "            res = 1\n",
    "            for j in st:\n",
    "                res = res*j\n",
    "            return res\n",
    "        Conmax = 0\n",
    "        for k in range(len(Frset)):\n",
    "            interestNums.append((FrtuplesList.count(Frset[k]), checkWeights(Frset[k])))\n",
    "            if FrtuplesList.count(Frset[k]) > Conmax:\n",
    "                Conmax = FrtuplesList.count(Frset[k])\n",
    "        #print(interestNums, Conmax)\n",
    "        maxWeight = 0\n",
    "        for p in range(len(interestNums)):\n",
    "            if interestNums[p][0] == Conmax and interestNums[p][1] > maxWeight:\n",
    "                maxWeight = interestNums[p][1]\n",
    "        return maxWeight\n",
    "        "
   ]
  },
  {
   "cell_type": "code",
   "execution_count": 135,
   "metadata": {},
   "outputs": [
    {
     "name": "stdout",
     "output_type": "stream",
     "text": [
      "[1, 2, 3, 4]\n"
     ]
    },
    {
     "data": {
      "text/plain": [
       "6"
      ]
     },
     "execution_count": 135,
     "metadata": {},
     "output_type": "execute_result"
    }
   ],
   "source": [
    "data = np.array([[1,2,2], [1,2,3], [2,3,1], [2,3,3], [2,4,4]])\n",
    "S1 = Solution()\n",
    "S1.sharedInterest(data)"
   ]
  },
  {
   "cell_type": "code",
   "execution_count": null,
   "metadata": {},
   "outputs": [],
   "source": []
  },
  {
   "cell_type": "code",
   "execution_count": null,
   "metadata": {},
   "outputs": [],
   "source": []
  }
 ],
 "metadata": {
  "kernelspec": {
   "display_name": "Python 3",
   "language": "python",
   "name": "python3"
  },
  "language_info": {
   "codemirror_mode": {
    "name": "ipython",
    "version": 3
   },
   "file_extension": ".py",
   "mimetype": "text/x-python",
   "name": "python",
   "nbconvert_exporter": "python",
   "pygments_lexer": "ipython3",
   "version": "3.7.0"
  }
 },
 "nbformat": 4,
 "nbformat_minor": 2
}
